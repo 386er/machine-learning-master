{
 "cells": [
  {
   "cell_type": "markdown",
   "metadata": {},
   "source": [
    "# Machine Learning Engineer Nanodegree \n",
    "## Capstone Proposal \n",
    "## Proposal: Network Intrusion Detection via Neural Networks\n",
    "Tobias Burri\n",
    "\n",
    "April 15th 2017\n",
    " \n",
    "### Domain Background (Cyber Security / Intrusion Detection) \n",
    " \n",
    "With an ever growing number of connected devices, more and more data is transferred over networks, generating a confusing amount of data that has to be monitored. Given this development, manual monitoring becomes increasingly infeasable to prevent cyber attacks. Network Intrusion Detections Systems (NIDS) can help system administrators to detect network breaches, however setting up policies that are both flexible and effectice against unforseen attacks can be challenging. Applying machine learning in the analysis of large log file datasets can help to improve NIDS and thus strengthening the security posture of organizations.\n",
    "\n",
    "I am working for a German IT-Consulting company with a wide range of expertise, one of which is cyber security. However the application of machine learning to cyber security topics was of little relevance so far in our daily work. Doing this project, I would like to promote ML techniques within my company for potential future projects.\n",
    "\n",
    "\n",
    "### Problem Statement \n",
    "\n",
    "Given a set of the inputs from a labeled dataset of network connections, malicious connections shall be identified and correctly labeled. Whether connections were correctly labeled can be clearly observed and the problem can be reproduced.\n",
    "\n",
    "### Dataset and inputs\n",
    "\n",
    "The dataset used for the capstone project will be the NSL-KDD dataset, which is an improved\\*   version of the KDD Cup 99 dataset. It was downloaded from <a href=\"https://github.com/defcom17/NSL_KDD \">this</a> Github repository. \n",
    " \n",
    "The original KDD dataset was created by collecting raw TCP dump data from a simulated U.S. airforce local-area network in the course of 9 weeks. During the data collection the network was deliberately attacked multiple times. Each datapoint represents a connection between a source and target IP, using a well defined protocol, during a well defined time frame. Each datapoint is made up of 41 features and is labeled either as a normal connections or as an attack.\n",
    "\n",
    "Some of the features are directly derived from the TCP/IP connections during a time interval, however the dataset includes also \"higher-level\" features that were derived from some of the basic features of the dataset. \n",
    "\n",
    "- The **'basic' ** set of features include inputs like duration of the connection (in seconds), the protocol type, the number of bytes from the source to the destination and vice versa. \n",
    "- The ** 'higher-level' ** features include inputs like the number of connections to the same host as the current connecton in the past two seconds, number of connection that use the same service, number of failed login attempts.\n",
    "\n",
    "There is a total of 38 types of attacks, grouped into 4 categories:\n",
    "\n",
    "- *DOS* (denial of service) e.g. syn flood\n",
    "- *R2L* (unauthorized access from a remote machine) e.g. guessing password\n",
    "- *U2R* (unauthorized access to local superuser privileges)  e.g. various 'buffer overflow' attacks\n",
    "- *PROBING* (surveillance and other probing) e.g. port scanning\n",
    "\n",
    "Not all of the attack types that occur in the test set, occur in the training set. This is a specific characteristic of the dataset to make it more realistic. However it is believed, that most of the novel attacks can be derived from the known attacks (see Tavallee, 2009) All types of attacks will be labeled as one of the categories they are grouped in. \n",
    "\n",
    "\n",
    "\n",
    "\n",
    "\n",
    "_ \\* A major improvement of the NSL-KDD dataset is the removal of redundant records and some further rearrangement of the data. For a more detailed description of how the dataset was modified please see <a href=\"http://www.unb.ca/cic/research/datasets/nsl.html\">here</a>  _\n",
    " "
   ]
  },
  {
   "cell_type": "markdown",
   "metadata": {
    "collapsed": false
   },
   "source": [
    "### Evaluation Metrics\n",
    "\n",
    "The following metrics will be used to evaluate the performance of both the benchmark model and the applied model:\n",
    "\n",
    "- Accuracy: Defined as the proportion of true results (both true positives and true negatives) among the total number of datapoints examined.\n",
    "\n",
    "- Precision: Defined as the ratio of the number of true positives divided by the number of true positives and false positives.\n",
    "\n",
    "- Recall: Defined as the ratio of number of true positives records divided by the number of true positives and false negatives.\n",
    "\n",
    "- F-Measure: Defined as the harmonic mean of precision and recall and represents a balance between them."
   ]
  },
  {
   "cell_type": "markdown",
   "metadata": {},
   "source": [
    "[1] M. Tavallaee, E. Bagheri, W. Lu, and A. Ghorbani, “A Detailed Analysis of the KDD CUP 99 Data Set,” Submitted to Second IEEE Symposium on Computational Intelligence for Security and Defense Applications (CISDA), 2009."
   ]
  },
  {
   "cell_type": "code",
   "execution_count": null,
   "metadata": {
    "collapsed": true
   },
   "outputs": [],
   "source": []
  }
 ],
 "metadata": {
  "kernelspec": {
   "display_name": "Python 3",
   "language": "python",
   "name": "python3"
  },
  "language_info": {
   "codemirror_mode": {
    "name": "ipython",
    "version": 3
   },
   "file_extension": ".py",
   "mimetype": "text/x-python",
   "name": "python",
   "nbconvert_exporter": "python",
   "pygments_lexer": "ipython3",
   "version": "3.6.0"
  }
 },
 "nbformat": 4,
 "nbformat_minor": 2
}
